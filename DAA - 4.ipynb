{
 "cells": [
  {
   "cell_type": "markdown",
   "id": "aa52fbe0",
   "metadata": {},
   "source": [
    "Practical No.4"
   ]
  },
  {
   "cell_type": "markdown",
   "id": "11195b1d",
   "metadata": {},
   "source": [
    "Write a program to solve a 0-1 Knapsack problem using dynamic programming or branch and bound strategy. "
   ]
  },
  {
   "cell_type": "code",
   "execution_count": 1,
   "id": "810cccc3",
   "metadata": {},
   "outputs": [
    {
     "name": "stdout",
     "output_type": "stream",
     "text": [
      "Enter the number of items: 4\n",
      "Enter the values of the items separated by space: 3 4 5 6\n",
      "Enter the weights of the items separated by space: 2 3 4 6\n",
      "Enter the maximum capacity of the knapsack: 5\n",
      "Maximum value: 7\n",
      "Selected items (0-indexed): [1, 0]\n"
     ]
    }
   ],
   "source": [
    "def knapsack_01(n, values, weights, W):\n",
    "    # Create a 2D DP array to store the maximum values for each subproblem\n",
    "    dp = [[0] * (W + 1) for _ in range(n + 1)]\n",
    "\n",
    "    # Build the DP array\n",
    "    for i in range(n + 1):\n",
    "        for w in range(W + 1):\n",
    "            if i == 0 or w == 0:\n",
    "                dp[i][w] = 0  # Base case: no items or knapsack capacity is 0\n",
    "            elif weights[i - 1] <= w:\n",
    "                # Take the item or leave it, whichever is more beneficial\n",
    "                dp[i][w] = max(dp[i - 1][w], dp[i - 1][w - weights[i - 1]] + values[i - 1])\n",
    "            else:\n",
    "                dp[i][w] = dp[i - 1][w]  # Skip the item if its weight is too large\n",
    "\n",
    "    # Backtrack to find the items that were selected\n",
    "    selected_items = []\n",
    "    i, w = n, W\n",
    "    while i > 0 and w > 0:\n",
    "        if dp[i][w] != dp[i - 1][w]:\n",
    "            selected_items.append(i - 1)  # Add this item to the selected list\n",
    "            w -= weights[i - 1]  # Reduce the remaining capacity\n",
    "        i -= 1  # Move to the previous item\n",
    "\n",
    "    return dp[n][W], selected_items\n",
    "\n",
    "# Take input from the user\n",
    "n = int(input(\"Enter the number of items: \"))\n",
    "values = list(map(int, input(\"Enter the values of the items separated by space: \").split()))\n",
    "weights = list(map(int, input(\"Enter the weights of the items separated by space: \").split()))\n",
    "W = int(input(\"Enter the maximum capacity of the knapsack: \"))\n",
    "\n",
    "# Call the knapsack function\n",
    "max_value, selected_items = knapsack_01(n, values, weights, W)\n",
    "\n",
    "# Output the result\n",
    "print(\"Maximum value:\", max_value)\n",
    "print(\"Selected items (0-indexed):\", selected_items)\n"
   ]
  },
  {
   "cell_type": "code",
   "execution_count": null,
   "id": "fb41e068",
   "metadata": {},
   "outputs": [],
   "source": []
  }
 ],
 "metadata": {
  "kernelspec": {
   "display_name": "Python 3 (ipykernel)",
   "language": "python",
   "name": "python3"
  },
  "language_info": {
   "codemirror_mode": {
    "name": "ipython",
    "version": 3
   },
   "file_extension": ".py",
   "mimetype": "text/x-python",
   "name": "python",
   "nbconvert_exporter": "python",
   "pygments_lexer": "ipython3",
   "version": "3.9.13"
  }
 },
 "nbformat": 4,
 "nbformat_minor": 5
}

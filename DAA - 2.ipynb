{
 "cells": [
  {
   "cell_type": "markdown",
   "id": "6c8426ed",
   "metadata": {},
   "source": [
    "Experiment No.2"
   ]
  },
  {
   "cell_type": "markdown",
   "id": "d9649f64",
   "metadata": {},
   "source": [
    "Write a program to implement Huffman Encoding using a greedy strategy."
   ]
  },
  {
   "cell_type": "code",
   "execution_count": 3,
   "id": "40928e85",
   "metadata": {},
   "outputs": [
    {
     "name": "stdout",
     "output_type": "stream",
     "text": [
      "Enter number of characters: 4\n",
      "Enter character 1: B\n",
      "Enter frequency of character B: 1\n",
      "Enter character 2: C\n",
      "Enter frequency of character C: 6\n",
      "Enter character 3: A\n",
      "Enter frequency of character A: 5\n",
      "Enter character 4: D\n",
      "Enter frequency of character D: 3\n",
      "\n",
      "Huffman Codes:\n",
      "C -> 0\n",
      "B -> 100\n",
      "D -> 101\n",
      "A -> 11\n",
      "\n",
      "Total size before encoding: 120 bits\n",
      "Total size after encoding: 28 bits\n",
      "Encoded Data Representation: 75 bits\n"
     ]
    }
   ],
   "source": [
    "import heapq\n",
    "\n",
    "# Defining the Node class for Huffman Tree\n",
    "class Node:\n",
    "    def __init__(self, freq, symbol, left=None, right=None):\n",
    "        self.freq = freq                  # Frequency of the character\n",
    "        self.symbol = symbol              # The character itself\n",
    "        self.left = left                  # Left child node\n",
    "        self.right = right                # Right child node\n",
    "        self.huff = \"\"                    # This will store the Huffman code\n",
    "\n",
    "    # Defining comparison operators to be able to use heapq\n",
    "    def __lt__(self, other):\n",
    "        return self.freq < other.freq\n",
    "\n",
    "# Function to print the Huffman Codes and calculate their lengths\n",
    "def printNodes(node, val=\"\"):\n",
    "    newval = val + node.huff\n",
    "\n",
    "    # If the node is not a leaf node, continue traversing\n",
    "    if node.left or node.right:\n",
    "        if node.left:\n",
    "            printNodes(node.left, newval)\n",
    "        if node.right:\n",
    "            printNodes(node.right, newval)\n",
    "    else:\n",
    "        # If it's a leaf node, print the symbol and its Huffman code\n",
    "        print(f\"{node.symbol} -> {newval}\")\n",
    "        encoded_lengths[node.symbol] = len(newval)\n",
    "\n",
    "# Getting user input for characters and their frequencies\n",
    "num_chars = int(input(\"Enter number of characters: \"))\n",
    "chars = []\n",
    "freqs = []\n",
    "\n",
    "for i in range(num_chars):\n",
    "    char = input(f\"Enter character {i + 1}: \")\n",
    "    freq = int(input(f\"Enter frequency of character {char}: \"))\n",
    "    chars.append(char)\n",
    "    freqs.append(freq)\n",
    "\n",
    "# Building the Huffman Tree\n",
    "nodes = []\n",
    "\n",
    "# Pushing all characters and their frequencies as nodes into a priority queue (min-heap)\n",
    "for i in range(len(chars)):\n",
    "    heapq.heappush(nodes, Node(freqs[i], chars[i]))\n",
    "\n",
    "# Merging nodes to create the Huffman Tree\n",
    "while len(nodes) > 1:\n",
    "    left = heapq.heappop(nodes)\n",
    "    right = heapq.heappop(nodes)\n",
    "\n",
    "    # Assign Huffman codes: '0' to left, '1' to right\n",
    "    left.huff = \"0\"\n",
    "    right.huff = \"1\"\n",
    "\n",
    "    # Create new internal node with combined frequency\n",
    "    newnode = Node(left.freq + right.freq, left.symbol + right.symbol, left, right)\n",
    "    heapq.heappush(nodes, newnode)\n",
    "\n",
    "# Calculating total size before encoding (each character occupies 8 bits)\n",
    "total_size_before = sum(freqs) * 8\n",
    "\n",
    "# Dictionary to store the length of Huffman codes for each character\n",
    "encoded_lengths = {}\n",
    "\n",
    "# Print the Huffman codes and calculate their lengths\n",
    "print(\"\\nHuffman Codes:\")\n",
    "printNodes(nodes[0])\n",
    "\n",
    "# Calculating total size after encoding based on Huffman codes\n",
    "total_size_after = sum(freqs[i] * encoded_lengths[chars[i]] for i in range(num_chars))\n",
    "\n",
    "# Calculating Encoded Data Representation\n",
    "characters = num_chars * 8  # Each character represented in 8 bits\n",
    "frequency = sum(freqs)      # Sum of frequencies\n",
    "encoded_data_representation = characters + frequency + total_size_after\n",
    "\n",
    "# Displaying the results\n",
    "print(\"\\nTotal size before encoding:\", total_size_before, \"bits\")\n",
    "print(\"Total size after encoding:\", total_size_after, \"bits\")\n",
    "print(\"Encoded Data Representation:\", encoded_data_representation, \"bits\")\n"
   ]
  },
  {
   "cell_type": "code",
   "execution_count": null,
   "id": "3ca9a5b2",
   "metadata": {},
   "outputs": [],
   "source": []
  }
 ],
 "metadata": {
  "kernelspec": {
   "display_name": "Python 3 (ipykernel)",
   "language": "python",
   "name": "python3"
  },
  "language_info": {
   "codemirror_mode": {
    "name": "ipython",
    "version": 3
   },
   "file_extension": ".py",
   "mimetype": "text/x-python",
   "name": "python",
   "nbconvert_exporter": "python",
   "pygments_lexer": "ipython3",
   "version": "3.9.13"
  }
 },
 "nbformat": 4,
 "nbformat_minor": 5
}

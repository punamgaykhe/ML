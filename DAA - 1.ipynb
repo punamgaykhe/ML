{
 "cells": [
  {
   "cell_type": "markdown",
   "id": "f35e863a",
   "metadata": {},
   "source": [
    "Practical No.1"
   ]
  },
  {
   "cell_type": "markdown",
   "id": "84da392f",
   "metadata": {},
   "source": [
    "Write a program non-recursive and recursive program to calculate Fibonacci numbers and analyze their time and space complexity"
   ]
  },
  {
   "cell_type": "markdown",
   "id": "b7c70517",
   "metadata": {},
   "source": [
    "1) Non - Recursive Program "
   ]
  },
  {
   "cell_type": "markdown",
   "id": "aecff3d4",
   "metadata": {},
   "source": [
    "Source Code :-"
   ]
  },
  {
   "cell_type": "code",
   "execution_count": 6,
   "id": "312a6f37",
   "metadata": {},
   "outputs": [
    {
     "name": "stdout",
     "output_type": "stream",
     "text": [
      "How many terms? 7\n",
      "Fibonacci sequence:\n",
      "0\n",
      "1\n",
      "1\n",
      "2\n",
      "3\n",
      "5\n",
      "8\n"
     ]
    }
   ],
   "source": [
    "nterms = int(input(\"How many terms? \"))\n",
    "\n",
    "# First two terms\n",
    "n1, n2 = 0, 1\n",
    "count = 0\n",
    "\n",
    "# Check if the number of terms is valid\n",
    "if nterms <= 0:\n",
    "    print(\"Please enter a positive integer\")\n",
    "# If there is only one term, return n1\n",
    "elif nterms == 1:\n",
    "    print(\"Fibonacci sequence up to\", nterms, \":\")\n",
    "    print(n1)\n",
    "# Generate Fibonacci sequence\n",
    "else:\n",
    "    print(\"Fibonacci sequence:\")\n",
    "    while count < nterms:\n",
    "        print(n1)  # Print the current term\n",
    "        nth = n1 + n2  # Update for the next term\n",
    "        # Update n1 and n2\n",
    "        n1 = n2\n",
    "        n2 = nth\n",
    "        count += 1\n"
   ]
  },
  {
   "cell_type": "markdown",
   "id": "ead79934",
   "metadata": {},
   "source": [
    "1)Recursive Program"
   ]
  },
  {
   "cell_type": "markdown",
   "id": "ade0d0b5",
   "metadata": {},
   "source": [
    "Source Code :-"
   ]
  },
  {
   "cell_type": "code",
   "execution_count": 7,
   "id": "89f92580",
   "metadata": {},
   "outputs": [
    {
     "name": "stdout",
     "output_type": "stream",
     "text": [
      "How many terms? 7\n",
      "Fibonacci sequence:\n",
      "0\n",
      "1\n",
      "1\n",
      "2\n",
      "3\n",
      "5\n",
      "8\n"
     ]
    }
   ],
   "source": [
    "def fibonacci(n):\n",
    "    if n <= 0:\n",
    "        return []\n",
    "    elif n == 1:\n",
    "        return [0]\n",
    "    elif n == 2:\n",
    "        return [0, 1]\n",
    "    else:\n",
    "        seq = fibonacci(n - 1)\n",
    "        seq.append(seq[-1] + seq[-2])\n",
    "        return seq\n",
    "\n",
    "nterms = int(input(\"How many terms? \"))\n",
    "\n",
    "# Check if the number of terms is valid\n",
    "if nterms <= 0:\n",
    "    print(\"Please enter a positive integer\")\n",
    "else:\n",
    "    print(\"Fibonacci sequence:\")\n",
    "    fib_sequence = fibonacci(nterms)\n",
    "    for num in fib_sequence:\n",
    "        print(num)\n"
   ]
  },
  {
   "cell_type": "code",
   "execution_count": null,
   "id": "b9a2c2cd",
   "metadata": {},
   "outputs": [],
   "source": []
  }
 ],
 "metadata": {
  "kernelspec": {
   "display_name": "Python 3 (ipykernel)",
   "language": "python",
   "name": "python3"
  },
  "language_info": {
   "codemirror_mode": {
    "name": "ipython",
    "version": 3
   },
   "file_extension": ".py",
   "mimetype": "text/x-python",
   "name": "python",
   "nbconvert_exporter": "python",
   "pygments_lexer": "ipython3",
   "version": "3.9.13"
  }
 },
 "nbformat": 4,
 "nbformat_minor": 5
}

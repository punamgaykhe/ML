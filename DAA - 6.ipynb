{
 "cells": [
  {
   "cell_type": "code",
   "execution_count": 1,
   "id": "ff08ede6",
   "metadata": {},
   "outputs": [
    {
     "name": "stdout",
     "output_type": "stream",
     "text": [
      "Enter number of elements: 10\n",
      "\n",
      "Original array: [788, 948, 438, 261, 999, 659, 109, 988, 72, 814]\n",
      "Sorted array (Deterministic QuickSort): [72, 109, 261, 438, 659, 788, 814, 948, 988, 999]\n",
      "Time taken by Deterministic QuickSort: 0.0 seconds\n",
      "\n",
      "Sorted array (Randomized QuickSort): [72, 109, 261, 438, 659, 788, 814, 948, 988, 999]\n",
      "Time taken by Randomized QuickSort: 0.0 seconds\n"
     ]
    }
   ],
   "source": [
    "import random\n",
    "import time\n",
    "\n",
    "# Deterministic QuickSort\n",
    "def deterministic_partition(arr, low, high):\n",
    "    pivot = arr[high]  # Choose last element as pivot (Deterministic)\n",
    "    i = low - 1        # Pointer for smaller element\n",
    "    for j in range(low, high):\n",
    "        if arr[j] < pivot:\n",
    "            i = i + 1\n",
    "            arr[i], arr[j] = arr[j], arr[i]\n",
    "    arr[i + 1], arr[high] = arr[high], arr[i + 1]\n",
    "    return i + 1\n",
    "\n",
    "def deterministic_quick_sort(arr, low, high):\n",
    "    if low < high:\n",
    "        pi = deterministic_partition(arr, low, high)\n",
    "        deterministic_quick_sort(arr, low, pi - 1)\n",
    "        deterministic_quick_sort(arr, pi + 1, high)\n",
    "\n",
    "\n",
    "# Randomized QuickSort\n",
    "def randomized_partition(arr, low, high):\n",
    "    rand_pivot = random.randint(low, high)\n",
    "    arr[high], arr[rand_pivot] = arr[rand_pivot], arr[high]  # Swap pivot with last element\n",
    "    return deterministic_partition(arr, low, high)\n",
    "\n",
    "def randomized_quick_sort(arr, low, high):\n",
    "    if low < high:\n",
    "        pi = randomized_partition(arr, low, high)\n",
    "        randomized_quick_sort(arr, low, pi - 1)\n",
    "        randomized_quick_sort(arr, pi + 1, high)\n",
    "\n",
    "\n",
    "# Helper function to run the algorithms and measure time\n",
    "def analyze_sorting_algorithms(arr):\n",
    "    # Copy the array for each sort to avoid mutation\n",
    "    arr_deterministic = arr.copy()\n",
    "    arr_randomized = arr.copy()\n",
    "\n",
    "    # Measure time for Deterministic QuickSort\n",
    "    start_time = time.time()\n",
    "    deterministic_quick_sort(arr_deterministic, 0, len(arr_deterministic) - 1)\n",
    "    deterministic_time = time.time() - start_time\n",
    "\n",
    "    # Measure time for Randomized QuickSort\n",
    "    start_time = time.time()\n",
    "    randomized_quick_sort(arr_randomized, 0, len(arr_randomized) - 1)\n",
    "    randomized_time = time.time() - start_time\n",
    "\n",
    "    # Print results\n",
    "    print(\"Sorted array (Deterministic QuickSort):\", arr_deterministic)\n",
    "    print(\"Time taken by Deterministic QuickSort:\", deterministic_time, \"seconds\\n\")\n",
    "\n",
    "    print(\"Sorted array (Randomized QuickSort):\", arr_randomized)\n",
    "    print(\"Time taken by Randomized QuickSort:\", randomized_time, \"seconds\")\n",
    "\n",
    "\n",
    "# Main code to test the analysis\n",
    "if __name__ == \"__main__\":\n",
    "    n = int(input(\"Enter number of elements: \"))\n",
    "    arr = [random.randint(1, 1000) for _ in range(n)]  # Generating random array\n",
    "\n",
    "    print(\"\\nOriginal array:\", arr)\n",
    "    analyze_sorting_algorithms(arr)\n"
   ]
  },
  {
   "cell_type": "code",
   "execution_count": null,
   "id": "ae6abdc3",
   "metadata": {},
   "outputs": [],
   "source": []
  }
 ],
 "metadata": {
  "kernelspec": {
   "display_name": "Python 3 (ipykernel)",
   "language": "python",
   "name": "python3"
  },
  "language_info": {
   "codemirror_mode": {
    "name": "ipython",
    "version": 3
   },
   "file_extension": ".py",
   "mimetype": "text/x-python",
   "name": "python",
   "nbconvert_exporter": "python",
   "pygments_lexer": "ipython3",
   "version": "3.9.13"
  }
 },
 "nbformat": 4,
 "nbformat_minor": 5
}
